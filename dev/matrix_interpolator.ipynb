{
 "cells": [
  {
   "cell_type": "markdown",
   "metadata": {},
   "source": [
    "## Read csv file"
   ]
  },
  {
   "cell_type": "code",
   "execution_count": 1,
   "metadata": {},
   "outputs": [],
   "source": [
    "import pandas as pd\n",
    "import numpy as np\n",
    "import argparse\n",
    "import os"
   ]
  },
  {
   "cell_type": "code",
   "execution_count": 2,
   "metadata": {},
   "outputs": [],
   "source": [
    "def read_matrix(file_path: str) -> np.ndarray:\n",
    "    \"\"\"\n",
    "    Reads a CSV file into a NumPy array, treating 'nan' as actual NaN values.\n",
    "\n",
    "    Args:\n",
    "        file_path (str): The path to the input CSV file.\n",
    "\n",
    "    Returns:\n",
    "        np.ndarray: A 2D NumPy array representing the matrix, with 'nan' converted to np.nan.\n",
    "\n",
    "    Raises:\n",
    "        FileNotFoundError: If the specified file does not exist.\n",
    "        ValueError: If the CSV cannot be parsed into a numeric matrix.\n",
    "    \"\"\"\n",
    "    if not os.path.exists(file_path):\n",
    "        raise FileNotFoundError(f\"Input file not found: {file_path}\")\n",
    "    try:\n",
    "        # Read CSV, specifying 'nan' as a missing value indicator.\n",
    "        # dtype=float ensures that all parsed values are numeric.\n",
    "        df = pd.read_csv(file_path, header=None, na_values=['nan'], dtype=float)\n",
    "        return df.to_numpy()\n",
    "    except Exception as e:\n",
    "        raise ValueError(f\"Error reading or parsing CSV file {file_path}: {e}\")"
   ]
  },
  {
   "cell_type": "code",
   "execution_count": 6,
   "metadata": {},
   "outputs": [
    {
     "name": "stdout",
     "output_type": "stream",
     "text": [
      "[[37.454012 95.071431 73.199394 59.865848       nan]\n",
      " [15.599452  5.808361 86.617615 60.111501 70.807258]\n",
      " [ 2.058449 96.990985       nan 21.233911 18.182497]\n",
      " [      nan 30.424224 52.475643 43.194502 29.122914]\n",
      " [61.185289 13.949386 29.214465       nan 45.606998]]\n"
     ]
    }
   ],
   "source": [
    "data_matrix=read_matrix(file_path=\"../example_data/input_test_data.csv\")\n",
    "print(data_matrix)"
   ]
  },
  {
   "cell_type": "markdown",
   "metadata": {},
   "source": [
    "# Interpolation"
   ]
  },
  {
   "cell_type": "code",
   "execution_count": 8,
   "metadata": {},
   "outputs": [
    {
     "name": "stdout",
     "output_type": "stream",
     "text": [
      "row:5\n",
      "cols:5\n"
     ]
    }
   ],
   "source": [
    "rows, cols = data_matrix.shape\n",
    "print(f\"row:{rows}\\ncols:{cols}\")"
   ]
  },
  {
   "cell_type": "code",
   "execution_count": 9,
   "metadata": {},
   "outputs": [],
   "source": [
    "def _get_non_diagonal_neighbors(matrix: np.ndarray, r: int, c: int) -> list:\n",
    "    \"\"\"\n",
    "    Collects the non-diagonal (up, down, left, right) neighbors of a cell\n",
    "    in a 2D matrix.\n",
    "\n",
    "    Args:\n",
    "        matrix (np.ndarray): The 2D NumPy array.\n",
    "        r (int): The row index of the current cell.\n",
    "        c (int): The column index of the current cell.\n",
    "\n",
    "    Returns:\n",
    "        list: A list of values of the non-diagonal neighbors.\n",
    "    \"\"\"\n",
    "    neighbors = []\n",
    "    rows, cols = matrix.shape\n",
    "\n",
    "    # Check up\n",
    "    if r > 0:\n",
    "        neighbors.append(matrix[r - 1, c])\n",
    "    # Check down\n",
    "    if r < rows - 1:\n",
    "        neighbors.append(matrix[r + 1, c])\n",
    "    # Check left\n",
    "    if c > 0:\n",
    "        neighbors.append(matrix[r, c - 1])\n",
    "    # Check right\n",
    "    if c < cols - 1:\n",
    "        neighbors.append(matrix[r, c + 1])\n",
    "\n",
    "    return neighbors"
   ]
  },
  {
   "cell_type": "code",
   "execution_count": 10,
   "metadata": {},
   "outputs": [
    {
     "data": {
      "text/plain": [
       "[np.float64(86.617615),\n",
       " np.float64(52.475643),\n",
       " np.float64(96.990985),\n",
       " np.float64(21.233911)]"
      ]
     },
     "execution_count": 10,
     "metadata": {},
     "output_type": "execute_result"
    }
   ],
   "source": [
    "_get_non_diagonal_neighbors(data_matrix, 2, 2)"
   ]
  },
  {
   "cell_type": "markdown",
   "metadata": {},
   "source": [
    "# interpolator\n",
    "Note of potential problems:\n",
    "1. All NA matrix\n",
    "2. some NA's neighbors are also NA, how to deal with this?"
   ]
  },
  {
   "cell_type": "code",
   "execution_count": 11,
   "metadata": {},
   "outputs": [],
   "source": [
    "def interpolate_matrix(matrix: np.ndarray) -> np.ndarray:\n",
    "    \"\"\"\n",
    "    Interpolates missing values (np.nan) in a 2D NumPy matrix.\n",
    "    Missing values are replaced by the average of their non-diagonal neighbors.\n",
    "    If a missing value has no valid non-diagonal neighbors, it is replaced\n",
    "    by the mean of all non-missing values in the entire matrix. If the entire\n",
    "    matrix is missing, all values are set to 0.0.\n",
    "\n",
    "    Args:\n",
    "        matrix (np.ndarray): The input 2D NumPy array, possibly containing np.nan.\n",
    "\n",
    "    Returns:\n",
    "        np.ndarray: A new 2D NumPy array with all missing values interpolated.\n",
    "    \"\"\"\n",
    "    # Create a copy to avoid modifying the original matrix\n",
    "    interpolated_matrix = np.copy(matrix)\n",
    "    rows, cols = interpolated_matrix.shape\n",
    "\n",
    "    # Calculate the mean of all non-missing values in the matrix.\n",
    "    # This will be used as a fallback for isolated NaNs.\n",
    "    # If the entire matrix is NaN, this will be NaN, so we handle that case.\n",
    "    global_mean = np.nanmean(interpolated_matrix)\n",
    "    if np.isnan(global_mean):\n",
    "        global_mean = 0.0 # Fallback if the entire matrix is NaN\n",
    "\n",
    "    # Iterate through each cell in the matrix\n",
    "    for r in range(rows):\n",
    "        for c in range(cols):\n",
    "            if np.isnan(interpolated_matrix[r, c]):\n",
    "                # Collect non-diagonal neighbors using the new helper function\n",
    "                neighbors = _get_non_diagonal_neighbors(matrix, r, c)\n",
    "                \n",
    "                # Filter out NaN values from neighbors\n",
    "                valid_neighbors = [n for n in neighbors if not np.isnan(n)]\n",
    "\n",
    "                if valid_neighbors:\n",
    "                    # Calculate the average of valid non-diagonal neighbors\n",
    "                    interpolated_matrix[r, c] = np.mean(valid_neighbors)\n",
    "                else:\n",
    "                    # If no valid non-diagonal neighbors, use the global mean\n",
    "                    interpolated_matrix[r, c] = global_mean\n",
    "    return interpolated_matrix"
   ]
  },
  {
   "cell_type": "code",
   "execution_count": 12,
   "metadata": {},
   "outputs": [
    {
     "data": {
      "text/plain": [
       "array([[37.454012 , 95.071431 , 73.199394 , 59.865848 , 65.336553 ],\n",
       "       [15.599452 ,  5.808361 , 86.617615 , 60.111501 , 70.807258 ],\n",
       "       [ 2.058449 , 96.990985 , 64.3295385, 21.233911 , 18.182497 ],\n",
       "       [31.222654 , 30.424224 , 52.475643 , 43.194502 , 29.122914 ],\n",
       "       [61.185289 , 13.949386 , 29.214465 , 39.338655 , 45.606998 ]])"
      ]
     },
     "execution_count": 12,
     "metadata": {},
     "output_type": "execute_result"
    }
   ],
   "source": [
    "interpolate_matrix(data_matrix)"
   ]
  },
  {
   "cell_type": "markdown",
   "metadata": {},
   "source": []
  }
 ],
 "metadata": {
  "kernelspec": {
   "display_name": "interpolator",
   "language": "python",
   "name": "python3"
  },
  "language_info": {
   "codemirror_mode": {
    "name": "ipython",
    "version": 3
   },
   "file_extension": ".py",
   "mimetype": "text/x-python",
   "name": "python",
   "nbconvert_exporter": "python",
   "pygments_lexer": "ipython3",
   "version": "3.12.11"
  }
 },
 "nbformat": 4,
 "nbformat_minor": 2
}
